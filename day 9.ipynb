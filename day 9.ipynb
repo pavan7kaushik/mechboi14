{
 "cells": [
  {
   "cell_type": "code",
   "execution_count": 3,
   "metadata": {},
   "outputs": [
    {
     "ename": "NameError",
     "evalue": "name 'd1' is not defined",
     "output_type": "error",
     "traceback": [
      "\u001b[0;31m---------------------------------------------------------------------------\u001b[0m",
      "\u001b[0;31mNameError\u001b[0m                                 Traceback (most recent call last)",
      "\u001b[0;32m<ipython-input-3-53b1764ee5ec>\u001b[0m in \u001b[0;36m<module>\u001b[0;34m\u001b[0m\n\u001b[0;32m----> 1\u001b[0;31m \u001b[0md1\u001b[0m\u001b[0;34m.\u001b[0m\u001b[0mkey\u001b[0m\u001b[0;34m(\u001b[0m\u001b[0;34m)\u001b[0m\u001b[0;34m\u001b[0m\u001b[0;34m\u001b[0m\u001b[0m\n\u001b[0m\u001b[1;32m      2\u001b[0m \u001b[0mdict_keys\u001b[0m\u001b[0;34m(\u001b[0m\u001b[0;34m[\u001b[0m\u001b[0;34m'Name'\u001b[0m\u001b[0;34m,\u001b[0m \u001b[0;34m'Address'\u001b[0m\u001b[0;34m]\u001b[0m\u001b[0;34m)\u001b[0m\u001b[0;34m\u001b[0m\u001b[0;34m\u001b[0m\u001b[0m\n\u001b[1;32m      3\u001b[0m \u001b[0md1\u001b[0m\u001b[0;34m.\u001b[0m\u001b[0mvalues\u001b[0m\u001b[0;34m(\u001b[0m\u001b[0;34m)\u001b[0m\u001b[0;34m\u001b[0m\u001b[0;34m\u001b[0m\u001b[0m\n\u001b[1;32m      4\u001b[0m \u001b[0mdict_values\u001b[0m\u001b[0;34m(\u001b[0m\u001b[0;34m[\u001b[0m\u001b[0;34m'Gitam'\u001b[0m\u001b[0;34m,\u001b[0m \u001b[0;34m'Hyderabad'\u001b[0m\u001b[0;34m]\u001b[0m\u001b[0;34m)\u001b[0m\u001b[0;34m\u001b[0m\u001b[0;34m\u001b[0m\u001b[0m\n\u001b[1;32m      5\u001b[0m \u001b[0md1\u001b[0m\u001b[0;34m.\u001b[0m\u001b[0mitems\u001b[0m\u001b[0;34m(\u001b[0m\u001b[0;34m)\u001b[0m\u001b[0;34m\u001b[0m\u001b[0;34m\u001b[0m\u001b[0m\n",
      "\u001b[0;31mNameError\u001b[0m: name 'd1' is not defined"
     ]
    }
   ],
   "source": [
    "d1.key()\n",
    "dict_keys(['Name', 'Address'])\n",
    "d1.values()\n",
    "dict_values(['Gitam', 'Hyderabad'])\n",
    "d1.items()\n",
    "dict_items([('Name' , 'Gitam') , ('Address' , 'Hyderabad')])"
   ]
  },
  {
   "cell_type": "markdown",
   "metadata": {},
   "source": [
    "### Contact Application\n",
    "#### add contact\n",
    "#### search contact\n",
    "#### list of contacts\n",
    "#### modify all contacts\n",
    "#### remove the contact\n",
    "#### import the contact\n"
   ]
  },
  {
   "cell_type": "code",
   "execution_count": 12,
   "metadata": {},
   "outputs": [
    {
     "name": "stdout",
     "output_type": "stream",
     "text": [
      "contact details already exist\n",
      "contact details already exist\n",
      "contact details already exist\n"
     ]
    }
   ],
   "source": [
    "# add contact\n",
    "def addcontact(name,phone):\n",
    "    if name not in contacts:\n",
    "        contacts[name] = phone\n",
    "        print(\"contact details are added\")\n",
    "    else:\n",
    "        print(\"contact details already exist\")\n",
    "    return\n",
    "addcontact('Putheekkk','9032814444')\n",
    "addcontact('Kausheeeeeeeeeek','8874751315')\n",
    "addcontact('Putheekkk','9032814444')"
   ]
  },
  {
   "cell_type": "code",
   "execution_count": 13,
   "metadata": {},
   "outputs": [
    {
     "name": "stdout",
     "output_type": "stream",
     "text": [
      "Putheekkk  :  9032814444\n",
      "Ghum Ghum does not exist\n",
      "Kausheeeeeeeeeek  :  8874751315\n"
     ]
    }
   ],
   "source": [
    "# search contacts\n",
    "def searchcontact(name):\n",
    "    if name in contacts:\n",
    "        print(name,\" : \", contacts[name])\n",
    "    else:\n",
    "        print(\"%s does not exist\" % name)\n",
    "    return\n",
    "searchcontact('Putheekkk')\n",
    "searchcontact('Ghum Ghum')\n",
    "searchcontact('Kausheeeeeeeeeek')\n"
   ]
  },
  {
   "cell_type": "code",
   "execution_count": 14,
   "metadata": {},
   "outputs": [
    {
     "name": "stdout",
     "output_type": "stream",
     "text": [
      "2 contacts added successfully\n"
     ]
    }
   ],
   "source": [
    "def importcontact(newcontacts):\n",
    "    contacts.update(newcontacts)\n",
    "    print(len(newcontacts.keys()),\"contacts added successfully\")\n",
    "    return\n",
    "newcontacts = {'Ghum': 7893000521, 'Aaavindddd': 9896547986}\n",
    "importcontact(newcontacts)"
   ]
  },
  {
   "cell_type": "code",
   "execution_count": 16,
   "metadata": {},
   "outputs": [
    {
     "name": "stdout",
     "output_type": "stream",
     "text": [
      "Maneesh does not exist\n"
     ]
    }
   ],
   "source": [
    "def deletecontact(name):\n",
    "    if name in contacts:\n",
    "        del contacts[name]\n",
    "        print(name,\"deleted successfully\")\n",
    "    else:\n",
    "        print(name,\"does not exist\")\n",
    "    return\n",
    "deletecontact('Maneesh')"
   ]
  },
  {
   "cell_type": "code",
   "execution_count": 17,
   "metadata": {},
   "outputs": [
    {
     "name": "stdout",
     "output_type": "stream",
     "text": [
      "Aaavindddd updated successfully\n",
      "Ghum updated successfully\n"
     ]
    }
   ],
   "source": [
    "#update contacts\n",
    "def deletecontact(name,phone):\n",
    "    if name in contacts:\n",
    "        contacts[name] = phone\n",
    "        print(name,\"updated successfully\")\n",
    "    else:\n",
    "        print(name,\"does not exist\")\n",
    "    return\n",
    "deletecontact('Aaavindddd',7979732316)\n",
    "deletecontact('Ghum', 7893000521)\n"
   ]
  },
  {
   "cell_type": "code",
   "execution_count": 18,
   "metadata": {},
   "outputs": [
    {
     "name": "stdout",
     "output_type": "stream",
     "text": [
      "3 2 1 1 0 "
     ]
    }
   ],
   "source": [
    "  def revimport math\n",
    "def Nth_of_GP(a, r, N):  \n",
    " \n",
    "    # Using formula to find the Nth  \n",
    "    # term TN = a1 * r(N-1)  \n",
    "    return( a * (int)(math.pow(r, N - 1)) )  \n",
    "     \n",
    "# Driver code  \n",
    "a = 2 # Starting number  \n",
    "r = 3 # Common ratio  \n",
    "N = 5 # N th term to be find  \n",
    "     \n",
    "print(\"The\", N, \"th term of the series is :\",  \n",
    "                            Nth_of_GP(a, r, N)) \n",
    "ersefibonacci(n): \n",
    "    a = [0] * n  \n",
    "    a[0] = 0 \n",
    "    a[1] = 1 \n",
    "    for i in range(2, n):\n",
    "        a[i] = a[i - 2] + a[i - 1]  \n",
    "    for i in range(n - 1, -1 , -1):\n",
    "        print(a[i],end=\" \")  \n",
    "n = 5 \n",
    "reversefibonacci(n)  "
   ]
  },
  {
   "cell_type": "code",
   "execution_count": 19,
   "metadata": {},
   "outputs": [
    {
     "name": "stdout",
     "output_type": "stream",
     "text": [
      "21\n"
     ]
    }
   ],
   "source": [
    "def findSum(arr,n): \n",
    "    arr.sort() \n",
    "    sum = arr[0] \n",
    "    for i in range(0,n-1): \n",
    "        if (arr[i] != arr[i+1]): \n",
    "            sum = sum + arr[i+1] \n",
    "    return sum\n",
    "def main(): \n",
    "    arr= [1, 2, 3, 1, 1, 4, 5, 6] \n",
    "    n = len(arr) \n",
    "    print(findSum(arr,n))\n",
    "if __name__ == '__main__': \n",
    "    main() "
   ]
  },
  {
   "cell_type": "code",
   "execution_count": 20,
   "metadata": {},
   "outputs": [
    {
     "name": "stdout",
     "output_type": "stream",
     "text": [
      "1 2 3 4 5 6 7 8 9 10 11 12 13 14 15 16 17 18 19 20 21 22 23 24 25 26 27 28 29 30 31 32 33 34 35 36 37 38 39 40 41 42 43 44 45 46 47 48 49 50 51 52 53 54 55 56 57 58 59 60 61 62 63 64 65 66 67 68 69 70 71 72 73 74 75 76 77 78 79 80 81 82 83 84 85 86 87 88 89 90 91 92 93 94 95 96 97 98 99 100 "
     ]
    }
   ],
   "source": [
    "def printNos(n):\n",
    "    if n > 0:\n",
    "        printNos(n - 1)\n",
    "        print(n, end = ' ')\n",
    "\n",
    "# Driver code\n",
    "printNos(100)"
   ]
  },
  {
   "cell_type": "code",
   "execution_count": 21,
   "metadata": {},
   "outputs": [
    {
     "name": "stdout",
     "output_type": "stream",
     "text": [
      "Yes\n"
     ]
    }
   ],
   "source": [
    "def isSubSequence(string1, string2, m, n):\n",
    "    # Base Cases\n",
    "    if m == 0:    return True\n",
    "    if n == 0:    return False\n",
    " \n",
    "    # If last characters of two strings are matching\n",
    "    if string1[m-1] == string2[n-1]:\n",
    "        return isSubSequence(string1, string2, m-1, n-1)\n",
    " \n",
    "    # If last characters are not matching\n",
    "    return isSubSequence(string1, string2, m, n-1)\n",
    " \n",
    "# Driver program to test the above function\n",
    "string1 = \"gksrek\"\n",
    "string2 = \"geeksforgeeks\"\n",
    "m = len(string1)\n",
    "n = len(string2)\n",
    "if isSubSequence(string1, string2, m, n):\n",
    "    print (\"Yes\")\n",
    "else:\n",
    "    print (\"No\")"
   ]
  },
  {
   "cell_type": "code",
   "execution_count": 22,
   "metadata": {},
   "outputs": [
    {
     "name": "stdout",
     "output_type": "stream",
     "text": [
      "The 5 th term of the series is : 162\n"
     ]
    }
   ],
   "source": [
    "import math\n",
    "def Nth_of_GP(a, r, N):  \n",
    " \n",
    "    # Using formula to find the Nth  \n",
    "    # term TN = a1 * r(N-1)  \n",
    "    return( a * (int)(math.pow(r, N - 1)) )  \n",
    "     \n",
    "# Driver code  \n",
    "a = 2 # Starting number  \n",
    "r = 3 # Common ratio  \n",
    "N = 5 # N th term to be find  \n",
    "     \n",
    "print(\"The\", N, \"th term of the series is :\",  \n",
    "                            Nth_of_GP(a, r, N)) \n"
   ]
  },
  {
   "cell_type": "markdown",
   "metadata": {},
   "source": [
    "### packages and modules\n",
    "#### packages:\n",
    "A collection of Modules(single python file .py) and subpackages\n",
    "#### Modules:\n",
    "A single python file containing functions\n",
    "#### Packages -> Sub packages -> Modules->"
   ]
  },
  {
   "cell_type": "code",
   "execution_count": 24,
   "metadata": {},
   "outputs": [
    {
     "data": {
      "text/plain": [
       "123"
      ]
     },
     "execution_count": 24,
     "metadata": {},
     "output_type": "execute_result"
    }
   ],
   "source": [
    "# import the external package\n",
    "import math\n",
    "math.floor(123.45)\n"
   ]
  },
  {
   "cell_type": "code",
   "execution_count": 25,
   "metadata": {},
   "outputs": [
    {
     "data": {
      "text/plain": [
       "5"
      ]
     },
     "execution_count": 25,
     "metadata": {},
     "output_type": "execute_result"
    }
   ],
   "source": [
    "from math import gcd as gcd\n",
    "gcd()"
   ]
  },
  {
   "cell_type": "code",
   "execution_count": 2,
   "metadata": {},
   "outputs": [
    {
     "name": "stdout",
     "output_type": "stream",
     "text": [
      "80 14 67 67 19 39 75 25 33 83 "
     ]
    }
   ],
   "source": [
    "# function to generate N random numbers\n",
    "import random\n",
    "def randomnumbers(n,lb,ub):\n",
    "    for i in range(0,n):\n",
    "        print(random.randint(lb,ub),end=\" \")\n",
    "    return\n",
    "randomnumbers(10,0,100)"
   ]
  },
  {
   "cell_type": "code",
   "execution_count": null,
   "metadata": {},
   "outputs": [],
   "source": [
    "# Create a simple game\n",
    "# generate 20 random numbers 0 to 500\n",
    "# input: number\n",
    "# output: Congrats!\n",
    "#         try once again!\n",
    "\n"
   ]
  }
 ],
 "metadata": {
  "kernelspec": {
   "display_name": "Python 3",
   "language": "python",
   "name": "python3"
  },
  "language_info": {
   "codemirror_mode": {
    "name": "ipython",
    "version": 3
   },
   "file_extension": ".py",
   "mimetype": "text/x-python",
   "name": "python",
   "nbconvert_exporter": "python",
   "pygments_lexer": "ipython3",
   "version": "3.7.3"
  }
 },
 "nbformat": 4,
 "nbformat_minor": 2
}
